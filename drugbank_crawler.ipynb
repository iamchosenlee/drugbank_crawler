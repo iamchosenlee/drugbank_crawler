{
 "cells": [
  {
   "cell_type": "markdown",
   "metadata": {},
   "source": [
    "## Drugbank Crawler\n",
    "### Search by target name and download drug name, SMILES, and URL."
   ]
  },
  {
   "cell_type": "code",
   "execution_count": 1,
   "metadata": {},
   "outputs": [],
   "source": [
    "from bs4 import BeautifulSoup\n",
    "import urllib\n",
    "from urllib.parse import urlparse, parse_qs, quote\n",
    "import requests\n",
    "import pandas as pd\n",
    "\n",
    "headers={'User-Agent': 'Mozilla/5.0 (Macintosh; Intel Mac OS X 10_14_0) AppleWebKit/537.36 (KHTML, like Gecko) Chrome/75.0.3770.142 Safari/537.36'}"
   ]
  },
  {
   "cell_type": "code",
   "execution_count": 2,
   "metadata": {},
   "outputs": [],
   "source": [
    "# https://stackoverflow.com/questions/2506379/add-params-to-given-url-in-python\n",
    "def change_parameters(url, params):\n",
    "    url_parts = list(urllib.parse.urlparse(url))\n",
    "    query = dict(urllib.parse.parse_qsl(url_parts[4]))\n",
    "    query.update(params)\n",
    "    url_parts[4] = urllib.parse.urlencode(query)\n",
    "    URL = urllib.parse.urlunparse(url_parts)\n",
    "    return URL"
   ]
  },
  {
   "cell_type": "code",
   "execution_count": 3,
   "metadata": {},
   "outputs": [],
   "source": [
    "def drug_crawl(target_name=\"D(2) dopamine receptor\"):\n",
    "    url = \"https://go.drugbank.com/targets\"\n",
    "    target_params = {'utf8': ['✓'],\n",
    "     'approved': ['0'],\n",
    "     'nutraceutical': ['0'],\n",
    "     'illicit': ['0'],\n",
    "     'investigational': ['0'],\n",
    "     'withdrawn': ['0'],\n",
    "     'experimental': ['0'],\n",
    "     'us': ['0'],\n",
    "     'ca': ['0'],\n",
    "     'eu': ['0'],\n",
    "     'q[polypeptides.name]': target_name}\n",
    "\n",
    "    URL = change_parameters(url, target_params)\n",
    "    print(URL)\n",
    "    resp = requests.request(\"get\", URL, params=None, data=None, headers=headers)\n",
    "    drug_url_list = []\n",
    "    try:\n",
    "        pages = int(parse_qs(BeautifulSoup(resp.content).find(\"li\", \"page-item last\").find('a', href=True)['href'])[\"page\"][0])\n",
    "        for page in range(pages):\n",
    "            page_url = change_parameters(URL, {'page': [page+1]})\n",
    "            resp = requests.request(\"get\", page_url, params=None, data=None, headers=headers)\n",
    "            for tr in BeautifulSoup(resp.content).find('tbody').find_all(\"tr\"):\n",
    "                drug_url_list.append(urllib.parse.urljoin(\"https://go.drugbank.com/\", tr.find(\"a\", href=True)['href']))\n",
    "        \n",
    "    except:\n",
    "        for tr in BeautifulSoup(resp.content).find('tbody').find_all(\"tr\"):\n",
    "            drug_url_list.append(urllib.parse.urljoin(\"https://go.drugbank.com/\", tr.find(\"a\", href=True)['href']))\n",
    "    \n",
    "    print(\"drug_list : \", len(drug_url_list))\n",
    "        \n",
    "    final_list = []\n",
    "    for u in drug_url_list:\n",
    "        resp = requests.request(\"get\", u, params=None, data=None, headers=headers)\n",
    "        try:\n",
    "            sm = BeautifulSoup(resp.content).find(id=\"smiles\").nextSibling.get_text()\n",
    "            print(sm)\n",
    "            name = BeautifulSoup(resp.content).find(\"h1\").get_text()\n",
    "            print(name)\n",
    "            final_list.append((name, sm, u))\n",
    "        except:\n",
    "            pass\n",
    "    print(f\"small molecules :{len(final_list)}\")\n",
    "    pd.DataFrame(final_list, columns =['name', 'smiles', 'url']).to_csv(f\"{target_name}.csv\", index=False)\n",
    "    return\n",
    "          \n",
    "        \n",
    "    "
   ]
  },
  {
   "cell_type": "code",
   "execution_count": 4,
   "metadata": {},
   "outputs": [
    {
     "name": "stdout",
     "output_type": "stream",
     "text": [
      "https://go.drugbank.com/targets?utf8=%5B%27%E2%9C%93%27%5D&approved=%5B%270%27%5D&nutraceutical=%5B%270%27%5D&illicit=%5B%270%27%5D&investigational=%5B%270%27%5D&withdrawn=%5B%270%27%5D&experimental=%5B%270%27%5D&us=%5B%270%27%5D&ca=%5B%270%27%5D&eu=%5B%270%27%5D&q%5Bpolypeptides.name%5D=Fatty+acid+synthase\n",
      "drug_list :  5\n",
      "[H][C@]1(O[C@]1([H])C(=O)CC\\C=C\\C\\C=C\\C)C(N)=O\n",
      "Cerulenin\n",
      "CCCCCCCCCCC[C@@H](C[C@@H]1OC(=O)[C@H]1CCCCCC)OC(=O)[C@H](CC(C)C)NC=O\n",
      "Orlistat\n",
      "CCCCCCCCCCC[C@@H](C[C@@H]1OC(=O)[C@H]1CCCCCC)OC(=O)[C@H](CC(C)C)NC=O\n",
      "Orlistat\n",
      "NC(=O)C1=NC=CN=C1\n",
      "Pyrazinamide\n",
      "[O-][N+](=O)C1=CN2C[C@@H](COC2=N1)OCC1=CC=C(OC(F)(F)F)C=C1\n",
      "Pretomanid\n",
      "small molecules :5\n"
     ]
    }
   ],
   "source": [
    "drug_crawl(\"Fatty acid synthase\")"
   ]
  }
 ],
 "metadata": {
  "kernelspec": {
   "display_name": "Python 3",
   "language": "python",
   "name": "python3"
  },
  "language_info": {
   "codemirror_mode": {
    "name": "ipython",
    "version": 3
   },
   "file_extension": ".py",
   "mimetype": "text/x-python",
   "name": "python",
   "nbconvert_exporter": "python",
   "pygments_lexer": "ipython3",
   "version": "3.7.4"
  }
 },
 "nbformat": 4,
 "nbformat_minor": 2
}
